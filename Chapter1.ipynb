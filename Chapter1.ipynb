{
  "nbformat": 4,
  "nbformat_minor": 0,
  "metadata": {
    "colab": {
      "provenance": [],
      "authorship_tag": "ABX9TyPn6kiJiFL3rk3DJl5s/ewz",
      "include_colab_link": true
    },
    "kernelspec": {
      "name": "python3",
      "display_name": "Python 3"
    },
    "language_info": {
      "name": "python"
    }
  },
  "cells": [
    {
      "cell_type": "markdown",
      "metadata": {
        "id": "view-in-github",
        "colab_type": "text"
      },
      "source": [
        "<a href=\"https://colab.research.google.com/github/takumi0706/IntroductionMLByPython/blob/main/Chapter1.ipynb\" target=\"_parent\"><img src=\"https://colab.research.google.com/assets/colab-badge.svg\" alt=\"Open In Colab\"/></a>"
      ]
    },
    {
      "cell_type": "code",
      "execution_count": null,
      "metadata": {
        "id": "IngV5AOdiTW3",
        "colab": {
          "base_uri": "https://localhost:8080/"
        },
        "outputId": "3285a47f-3334-4742-cdae-3eed075fefd0"
      },
      "outputs": [
        {
          "output_type": "stream",
          "name": "stdout",
          "text": [
            "Requirement already satisfied: matplotlib in /usr/local/lib/python3.10/dist-packages (3.7.1)\n",
            "Requirement already satisfied: contourpy>=1.0.1 in /usr/local/lib/python3.10/dist-packages (from matplotlib) (1.2.1)\n",
            "Requirement already satisfied: cycler>=0.10 in /usr/local/lib/python3.10/dist-packages (from matplotlib) (0.12.1)\n",
            "Requirement already satisfied: fonttools>=4.22.0 in /usr/local/lib/python3.10/dist-packages (from matplotlib) (4.53.0)\n",
            "Requirement already satisfied: kiwisolver>=1.0.1 in /usr/local/lib/python3.10/dist-packages (from matplotlib) (1.4.5)\n",
            "Requirement already satisfied: numpy>=1.20 in /usr/local/lib/python3.10/dist-packages (from matplotlib) (1.25.2)\n",
            "Requirement already satisfied: packaging>=20.0 in /usr/local/lib/python3.10/dist-packages (from matplotlib) (24.1)\n",
            "Requirement already satisfied: pillow>=6.2.0 in /usr/local/lib/python3.10/dist-packages (from matplotlib) (9.4.0)\n",
            "Requirement already satisfied: pyparsing>=2.3.1 in /usr/local/lib/python3.10/dist-packages (from matplotlib) (3.1.2)\n",
            "Requirement already satisfied: python-dateutil>=2.7 in /usr/local/lib/python3.10/dist-packages (from matplotlib) (2.8.2)\n",
            "Requirement already satisfied: six>=1.5 in /usr/local/lib/python3.10/dist-packages (from python-dateutil>=2.7->matplotlib) (1.16.0)\n"
          ]
        }
      ],
      "source": [
        "pip install matplotlib"
      ]
    },
    {
      "cell_type": "code",
      "source": [
        "pip install numpy"
      ],
      "metadata": {
        "colab": {
          "base_uri": "https://localhost:8080/"
        },
        "id": "nT6zdpktku2V",
        "outputId": "2d43a4fc-7407-45d7-b195-bea8788b617b"
      },
      "execution_count": null,
      "outputs": [
        {
          "output_type": "stream",
          "name": "stdout",
          "text": [
            "Requirement already satisfied: numpy in /usr/local/lib/python3.10/dist-packages (1.25.2)\n"
          ]
        }
      ]
    },
    {
      "cell_type": "code",
      "source": [
        "pip install chainer"
      ],
      "metadata": {
        "colab": {
          "base_uri": "https://localhost:8080/"
        },
        "id": "uBylE9zDk02I",
        "outputId": "427791f2-7064-466a-af1f-e1ed0f1c2022"
      },
      "execution_count": null,
      "outputs": [
        {
          "output_type": "stream",
          "name": "stdout",
          "text": [
            "Collecting chainer\n",
            "  Downloading chainer-7.8.1.tar.gz (1.0 MB)\n",
            "\u001b[2K     \u001b[90m━━━━━━━━━━━━━━━━━━━━━━━━━━━━━━━━━━━━━━━━\u001b[0m \u001b[32m1.0/1.0 MB\u001b[0m \u001b[31m5.0 MB/s\u001b[0m eta \u001b[36m0:00:00\u001b[0m\n",
            "\u001b[?25h  Preparing metadata (setup.py) ... \u001b[?25l\u001b[?25hdone\n",
            "Requirement already satisfied: setuptools in /usr/local/lib/python3.10/dist-packages (from chainer) (67.7.2)\n",
            "Requirement already satisfied: typing_extensions in /usr/local/lib/python3.10/dist-packages (from chainer) (4.12.2)\n",
            "Requirement already satisfied: filelock in /usr/local/lib/python3.10/dist-packages (from chainer) (3.14.0)\n",
            "Requirement already satisfied: numpy>=1.9.0 in /usr/local/lib/python3.10/dist-packages (from chainer) (1.25.2)\n",
            "Requirement already satisfied: protobuf>=3.0.0 in /usr/local/lib/python3.10/dist-packages (from chainer) (3.20.3)\n",
            "Requirement already satisfied: six>=1.9.0 in /usr/local/lib/python3.10/dist-packages (from chainer) (1.16.0)\n",
            "Building wheels for collected packages: chainer\n",
            "  Building wheel for chainer (setup.py) ... \u001b[?25l\u001b[?25hdone\n",
            "  Created wheel for chainer: filename=chainer-7.8.1-py3-none-any.whl size=967716 sha256=6d0fe707b0400e2f22e2553d3c9b633d4a3ffc24681699666fe99e3eb88c9659\n",
            "  Stored in directory: /root/.cache/pip/wheels/c4/95/6a/16014db6f761c4e742755b64aac60dbe142da1df6c5919f790\n",
            "Successfully built chainer\n",
            "Installing collected packages: chainer\n",
            "Successfully installed chainer-7.8.1\n"
          ]
        }
      ]
    },
    {
      "cell_type": "code",
      "source": [
        "import numpy as np\n",
        "import matplotlib.pyplot as plt"
      ],
      "metadata": {
        "id": "DgNSiuVck8Xq"
      },
      "execution_count": null,
      "outputs": []
    },
    {
      "cell_type": "code",
      "source": [
        "D = 100\n",
        "N = 2\n",
        "xdata = np.random.randn(D*N).reshape(D,N).astype(np.float32)"
      ],
      "metadata": {
        "id": "nx6ndH3SlK9x"
      },
      "execution_count": null,
      "outputs": []
    },
    {
      "cell_type": "code",
      "source": [
        "print(xdata)"
      ],
      "metadata": {
        "colab": {
          "base_uri": "https://localhost:8080/"
        },
        "id": "Co1NZn5YlqnN",
        "outputId": "b8ab9d6a-f7af-43a3-e570-482e06713c85"
      },
      "execution_count": null,
      "outputs": [
        {
          "output_type": "stream",
          "name": "stdout",
          "text": [
            "[[ 1.7732587  -0.43440992]\n",
            " [ 1.1937985  -0.5699845 ]\n",
            " [ 0.9824486  -0.23424534]\n",
            " [-0.5817224  -0.06531912]\n",
            " [ 0.19128054  0.20415963]\n",
            " [ 1.0527757  -1.2798412 ]\n",
            " [-0.44945985 -1.1006007 ]\n",
            " [ 0.1994971   1.5238557 ]\n",
            " [-1.7704537   1.0105182 ]\n",
            " [-0.76100725  1.1304264 ]\n",
            " [-1.3502734  -0.21145812]\n",
            " [-1.287509   -0.05867563]\n",
            " [-0.52402586 -2.7330422 ]\n",
            " [ 0.56903404 -0.14806971]\n",
            " [ 1.8162503   0.43715772]\n",
            " [-0.7856468  -0.16199641]\n",
            " [-1.1442146  -0.35254672]\n",
            " [-1.5678277  -0.14354962]\n",
            " [ 0.35654935 -1.3478767 ]\n",
            " [-0.03406842  0.5583288 ]\n",
            " [-0.47886476  0.37613672]\n",
            " [ 0.5178193   1.8307846 ]\n",
            " [-0.79032755  0.6466707 ]\n",
            " [ 0.40324834 -1.4095236 ]\n",
            " [ 0.26264152 -0.1863403 ]\n",
            " [-1.3180532  -1.7437291 ]\n",
            " [ 2.0439467   0.37859935]\n",
            " [-2.147396   -0.40218678]\n",
            " [ 0.13877797  0.39311272]\n",
            " [-0.9616573  -1.0157216 ]\n",
            " [ 1.4807147  -1.7779676 ]\n",
            " [-0.2611702  -0.5572638 ]\n",
            " [ 2.7170727  -1.5428681 ]\n",
            " [-1.1710656   0.5672802 ]\n",
            " [-1.0489659  -1.0241919 ]\n",
            " [ 1.4039669   1.0006443 ]\n",
            " [-1.8688203  -0.00370483]\n",
            " [ 0.90916944  1.0840826 ]\n",
            " [ 0.4528704   1.8990964 ]\n",
            " [-0.5464584   1.3402874 ]\n",
            " [-1.054886   -0.5159249 ]\n",
            " [ 0.03604202 -1.2758005 ]\n",
            " [-1.3816379  -0.19967067]\n",
            " [ 1.6382478   1.2794679 ]\n",
            " [ 0.07831676  0.528887  ]\n",
            " [ 0.30596268 -1.4083992 ]\n",
            " [ 0.06981312 -0.28720915]\n",
            " [-0.4003582   0.1577107 ]\n",
            " [ 1.1272556   0.9825145 ]\n",
            " [ 0.98359305  1.0060434 ]\n",
            " [ 0.60122293 -0.05500608]\n",
            " [-0.9630226   0.89522314]\n",
            " [-0.2476933  -1.0532638 ]\n",
            " [ 0.2806448   1.9335452 ]\n",
            " [ 0.522894    0.7170675 ]\n",
            " [ 0.76739204 -0.36949965]\n",
            " [ 0.75134015 -0.5658307 ]\n",
            " [ 1.2096235   1.2457076 ]\n",
            " [ 0.9475385  -1.0612168 ]\n",
            " [-0.4242213   1.1294626 ]\n",
            " [-1.1028992  -1.0052812 ]\n",
            " [-1.2921429  -0.9073018 ]\n",
            " [-1.171943   -0.23465934]\n",
            " [-0.2844019  -0.28695494]\n",
            " [ 0.57962507 -1.038436  ]\n",
            " [-1.3485531   0.6315461 ]\n",
            " [ 0.01909947  0.3695336 ]\n",
            " [-1.1802168   0.08263583]\n",
            " [ 1.5374701   0.44158444]\n",
            " [ 0.34604782  0.3638377 ]\n",
            " [ 1.127792   -0.92422163]\n",
            " [ 0.17091626 -0.22237828]\n",
            " [ 0.66205245  0.5710737 ]\n",
            " [ 1.3294117  -2.273501  ]\n",
            " [-0.02681763 -0.17299253]\n",
            " [-0.71177745  1.6957144 ]\n",
            " [-1.6896087  -1.4349282 ]\n",
            " [-0.92660904  0.79732597]\n",
            " [-0.8373294  -0.69165534]\n",
            " [ 1.114133   -0.03104408]\n",
            " [ 2.1966443  -0.09164506]\n",
            " [-1.4555384  -0.02120282]\n",
            " [ 0.01569021  0.01984286]\n",
            " [ 1.3890476  -0.43284583]\n",
            " [-1.2439299  -0.01207073]\n",
            " [ 0.34386653 -0.8174292 ]\n",
            " [ 1.1201322  -1.0673498 ]\n",
            " [ 0.11775677 -1.6717607 ]\n",
            " [ 1.759632    1.9556432 ]\n",
            " [ 0.26383168  1.1061938 ]\n",
            " [-0.57933104  1.1611316 ]\n",
            " [-0.55172855 -0.57317436]\n",
            " [-0.6143435  -0.3297063 ]\n",
            " [ 0.01673208 -0.26532075]\n",
            " [ 2.2389102  -0.5859434 ]\n",
            " [-0.47716454  1.7167535 ]\n",
            " [-0.03622667  1.3705374 ]\n",
            " [ 0.2762955   0.8886726 ]\n",
            " [-0.6951847  -1.1867589 ]\n",
            " [ 0.3558087   0.6964227 ]]\n"
          ]
        }
      ]
    },
    {
      "cell_type": "code",
      "source": [
        "plt.scatter(xdata[:,0],xdata[:,1])\n",
        "plt.show()"
      ],
      "metadata": {
        "colab": {
          "base_uri": "https://localhost:8080/",
          "height": 430
        },
        "id": "I_DFrWUSlPlE",
        "outputId": "626dc62a-c782-4403-d6c5-2fc05ff59dfe"
      },
      "execution_count": null,
      "outputs": [
        {
          "output_type": "display_data",
          "data": {
            "text/plain": [
              "<Figure size 640x480 with 1 Axes>"
            ],
            "image/png": "[encoded data removed]"
          },
          "metadata": {}
        }
      ]
    },
    {
      "cell_type": "code",
      "source": [
        "def f(x):\n",
        "  y = x*x\n",
        "  return y"
      ],
      "metadata": {
        "id": "Fh6vNZL-mO6s"
      },
      "execution_count": null,
      "outputs": []
    },
    {
      "cell_type": "code",
      "source": [
        "tdata = (xdata[:,1] > f(xdata[:,0])).astype(np.int32)"
      ],
      "metadata": {
        "id": "xhH3fx20m14k"
      },
      "execution_count": null,
      "outputs": []
    },
    {
      "cell_type": "code",
      "source": [
        "print(tdata)"
      ],
      "metadata": {
        "colab": {
          "base_uri": "https://localhost:8080/"
        },
        "id": "hyGTu4M6nbUP",
        "outputId": "f2211a64-1110-4898-893a-1478e451818b"
      },
      "execution_count": null,
      "outputs": [
        {
          "output_type": "stream",
          "name": "stdout",
          "text": [
            "[0 0 0 0 1 0 0 1 0 1 0 0 0 0 0 0 0 0 0 1 1 1 1 0 0 0 0 0 1 0 0 0 0 0 0 0 0\n",
            " 1 1 1 0 0 0 0 1 0 0 0 0 1 0 0 0 1 1 0 0 0 0 1 0 0 0 0 0 0 1 0 0 1 0 0 1 0\n",
            " 0 1 0 0 0 0 0 0 1 0 0 0 0 0 0 1 1 0 0 0 0 1 1 1 0 1]\n"
          ]
        }
      ]
    },
    {
      "cell_type": "code",
      "source": [
        "print(tdata.shape)"
      ],
      "metadata": {
        "colab": {
          "base_uri": "https://localhost:8080/"
        },
        "id": "jEXqUI0QnuW7",
        "outputId": "4e15ba57-fe41-4193-91b5-443cdd69a217"
      },
      "execution_count": null,
      "outputs": [
        {
          "output_type": "stream",
          "name": "stdout",
          "text": [
            "(100,)\n"
          ]
        }
      ]
    },
    {
      "cell_type": "code",
      "source": [
        "ndata0 = np.where(tdata == 0)\n",
        "ndata1 = np.where(tdata == 1)"
      ],
      "metadata": {
        "id": "JznVVzUxnzxz"
      },
      "execution_count": null,
      "outputs": []
    },
    {
      "cell_type": "code",
      "source": [
        "print(ndata0)"
      ],
      "metadata": {
        "colab": {
          "base_uri": "https://localhost:8080/"
        },
        "id": "KhZfuHa_n9s_",
        "outputId": "8fcb23a9-c8ea-4275-bc0a-89672c99f254"
      },
      "execution_count": null,
      "outputs": [
        {
          "output_type": "stream",
          "name": "stdout",
          "text": [
            "(array([ 0,  1,  2,  3,  5,  6,  8, 10, 11, 12, 13, 14, 15, 16, 17, 18, 23,\n",
            "       24, 25, 26, 27, 29, 30, 31, 32, 33, 34, 35, 36, 40, 41, 42, 43, 45,\n",
            "       46, 47, 48, 50, 51, 52, 55, 56, 57, 58, 60, 61, 62, 63, 64, 65, 67,\n",
            "       68, 70, 71, 73, 74, 76, 77, 78, 79, 80, 81, 83, 84, 85, 86, 87, 88,\n",
            "       91, 92, 93, 94, 98]),)\n"
          ]
        }
      ]
    },
    {
      "cell_type": "code",
      "source": [
        "print(ndata1)"
      ],
      "metadata": {
        "colab": {
          "base_uri": "https://localhost:8080/"
        },
        "id": "i6zzyCSjoFLs",
        "outputId": "664a30bf-3115-49b0-d0a4-2f0e3ed391b6"
      },
      "execution_count": null,
      "outputs": [
        {
          "output_type": "stream",
          "name": "stdout",
          "text": [
            "(array([ 4,  7,  9, 19, 20, 21, 22, 28, 37, 38, 39, 44, 49, 53, 54, 59, 66,\n",
            "       69, 72, 75, 82, 89, 90, 95, 96, 97, 99]),)\n"
          ]
        }
      ]
    },
    {
      "cell_type": "code",
      "source": [
        "x = np.linspace(-2.0,2.0,D)\n",
        "plt.plot(x,f(x))\n",
        "plt.scatter(xdata[ndata0,0],xdata[ndata0,1],marker = \"x\")\n",
        "plt.scatter(xdata[ndata1,0],xdata[ndata1,1],marker = \"o\")\n",
        "plt.show()"
      ],
      "metadata": {
        "colab": {
          "base_uri": "https://localhost:8080/",
          "height": 430
        },
        "id": "uXfHHnQboGmq",
        "outputId": "ba7f5aa2-6032-4a5b-e95a-8733936af93b"
      },
      "execution_count": null,
      "outputs": [
        {
          "output_type": "display_data",
          "data": {
            "text/plain": [
              "<Figure size 640x480 with 1 Axes>"
            ],
            "image/png": "[encoded data removed]"
          },
          "metadata": {}
        }
      ]
    },
    {
      "cell_type": "markdown",
      "source": [
        "# Chapter1\n",
        "## データの扱いかた\n",
        "### 2024/06/13\n"
      ],
      "metadata": {
        "id": "Jz96wQMbpZ55"
      }
    }
  ]
}