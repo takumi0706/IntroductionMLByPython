{
  "nbformat": 4,
  "nbformat_minor": 0,
  "metadata": {
    "colab": {
      "provenance": [],
      "authorship_tag": "ABX9TyODwIYUmXFnz2ieV1Xtt0rr",
      "include_colab_link": true
    },
    "kernelspec": {
      "name": "python3",
      "display_name": "Python 3"
    },
    "language_info": {
      "name": "python"
    }
  },
  "cells": [
    {
      "cell_type": "markdown",
      "metadata": {
        "id": "view-in-github",
        "colab_type": "text"
      },
      "source": [
        "<a href=\"https://colab.research.google.com/github/takumi0706/IntroductionMLByPython/blob/main/Chapter3.ipynb\" target=\"_parent\"><img src=\"https://colab.research.google.com/assets/colab-badge.svg\" alt=\"Open In Colab\"/></a>"
      ]
    },
    {
      "cell_type": "code",
      "source": [
        "pip install chainer"
      ],
      "metadata": {
        "colab": {
          "base_uri": "https://localhost:8080/"
        },
        "id": "Nn9hGxw8w8RF",
        "outputId": "af8382e6-46fd-4cc9-a40f-c680f1f2e706"
      },
      "execution_count": 1,
      "outputs": [
        {
          "output_type": "stream",
          "name": "stdout",
          "text": [
            "Collecting chainer\n",
            "  Downloading chainer-7.8.1.tar.gz (1.0 MB)\n",
            "\u001b[2K     \u001b[90m━━━━━━━━━━━━━━━━━━━━━━━━━━━━━━━━━━━━━━━━\u001b[0m \u001b[32m1.0/1.0 MB\u001b[0m \u001b[31m4.6 MB/s\u001b[0m eta \u001b[36m0:00:00\u001b[0m\n",
            "\u001b[?25h  Preparing metadata (setup.py) ... \u001b[?25l\u001b[?25hdone\n",
            "Requirement already satisfied: setuptools in /usr/local/lib/python3.10/dist-packages (from chainer) (67.7.2)\n",
            "Requirement already satisfied: typing_extensions in /usr/local/lib/python3.10/dist-packages (from chainer) (4.12.2)\n",
            "Requirement already satisfied: filelock in /usr/local/lib/python3.10/dist-packages (from chainer) (3.15.3)\n",
            "Requirement already satisfied: numpy>=1.9.0 in /usr/local/lib/python3.10/dist-packages (from chainer) (1.25.2)\n",
            "Requirement already satisfied: protobuf>=3.0.0 in /usr/local/lib/python3.10/dist-packages (from chainer) (3.20.3)\n",
            "Requirement already satisfied: six>=1.9.0 in /usr/local/lib/python3.10/dist-packages (from chainer) (1.16.0)\n",
            "Building wheels for collected packages: chainer\n",
            "  Building wheel for chainer (setup.py) ... \u001b[?25l\u001b[?25hdone\n",
            "  Created wheel for chainer: filename=chainer-7.8.1-py3-none-any.whl size=967716 sha256=5d5b7468de0bc470b58f4464393088cd0a95fcc297a6337aef3fa8e800b79253\n",
            "  Stored in directory: /root/.cache/pip/wheels/c4/95/6a/16014db6f761c4e742755b64aac60dbe142da1df6c5919f790\n",
            "Successfully built chainer\n",
            "Installing collected packages: chainer\n",
            "Successfully installed chainer-7.8.1\n"
          ]
        }
      ]
    },
    {
      "cell_type": "code",
      "execution_count": 2,
      "metadata": {
        "id": "Ly69gvlE9_8i"
      },
      "outputs": [],
      "source": [
        "import numpy as np\n",
        "import matplotlib.pyplot as plt\n",
        "import sklearn.datasets as ds"
      ]
    },
    {
      "cell_type": "code",
      "source": [
        "Iris = ds.load_iris()\n",
        "xdata = Iris.data.astype(np.float32)\n",
        "tdata = Iris.target.astype(np.int32)"
      ],
      "metadata": {
        "id": "9U_Vpyw8_Gmm"
      },
      "execution_count": 3,
      "outputs": []
    },
    {
      "cell_type": "code",
      "source": [
        "D,N = xdata.shape"
      ],
      "metadata": {
        "id": "M-sPWb1r_3HO"
      },
      "execution_count": 4,
      "outputs": []
    },
    {
      "cell_type": "code",
      "source": [
        "Dtrain = D//2\n",
        "# permutation == ランダムにD=150の数字をランダムに並び替える\n",
        "index = np.random.permutation(range(D))\n",
        "xtrain = xdata[index[0:Dtrain],:]\n",
        "ttrain = tdata[index[0:Dtrain]]\n",
        "xtest = xdata[index[Dtrain:D],:]\n",
        "ttest = tdata[index[Dtrain:D]]"
      ],
      "metadata": {
        "id": "I7pNOtqVuBKi"
      },
      "execution_count": 16,
      "outputs": []
    },
    {
      "cell_type": "code",
      "source": [
        "import chainer.optimizers as Opt\n",
        "import chainer.functions as F\n",
        "import chainer.links as L\n",
        "from chainer import Variable,Chain,config"
      ],
      "metadata": {
        "id": "6XJoif0vvjfU"
      },
      "execution_count": 17,
      "outputs": []
    },
    {
      "cell_type": "code",
      "source": [
        "# 最大値抽出\n",
        "C = np.max(tdata)+1\n",
        "NN = Chain(l1 = L.Linear(N,3),l2 = L.Linear(3,3), l3 = L.Linear(3,C))"
      ],
      "metadata": {
        "id": "_z91Gm-ixZR_"
      },
      "execution_count": 18,
      "outputs": []
    },
    {
      "cell_type": "code",
      "source": [
        "def model(x):\n",
        "  h = NN.l1(x)\n",
        "  h = F.relu(h)\n",
        "  h = NN.l2(h)\n",
        "  h = F.relu(h)\n",
        "  y = NN.l3(h)\n",
        "  return y"
      ],
      "metadata": {
        "id": "qXKouvZ7x1Sx"
      },
      "execution_count": 30,
      "outputs": []
    },
    {
      "cell_type": "code",
      "source": [
        "# 最適化の設定\n",
        "optNN = Opt.SGD()\n",
        "optNN.setup(NN)"
      ],
      "metadata": {
        "id": "CtFioxQ4yqhd",
        "colab": {
          "base_uri": "https://localhost:8080/"
        },
        "outputId": "dcdadaef-4cc5-4cda-b4f1-20f3bf65964e"
      },
      "execution_count": 31,
      "outputs": [
        {
          "output_type": "execute_result",
          "data": {
            "text/plain": [
              "<chainer.optimizers.sgd.SGD at 0x7933ef477160>"
            ]
          },
          "metadata": {},
          "execution_count": 31
        }
      ]
    },
    {
      "cell_type": "code",
      "source": [
        "# 記録保存\n",
        "train_loss = []\n",
        "train_acc = []\n",
        "test_loss = []\n",
        "test_acc = []"
      ],
      "metadata": {
        "id": "a-hydpdzzn0G"
      },
      "execution_count": 32,
      "outputs": []
    },
    {
      "cell_type": "code",
      "source": [
        "T = 10000\n",
        "for time in range(T):\n",
        "  config.train = True\n",
        "  optNN.target.zerograds()\n",
        "  ytrain = model(xtrain)\n",
        "  loss_train = F.softmax_cross_entropy(ytrain,ttrain)\n",
        "  acc_train = F.accuracy(ytrain,ttrain)\n",
        "  loss_train.backward()\n",
        "  optNN.update()\n",
        "  config.train = False\n",
        "  ytest = model(xtest)\n",
        "  loss_test = F.softmax_cross_entropy(ytest,ttest)\n",
        "  acc_test = F.accuracy(ytest,ttest)\n",
        "  train_loss.append(loss_train.data)\n",
        "  train_acc.append(acc_train.data)\n",
        "  test_loss.append(loss_test.data)\n",
        "  test_acc.append(acc_test.data)"
      ],
      "metadata": {
        "id": "XBtYmi4nz21i"
      },
      "execution_count": 33,
      "outputs": []
    },
    {
      "cell_type": "code",
      "source": [
        "Tall = len(train_loss)\n",
        "plt.figure(figsize=(8,6))\n",
        "plt.plot(range(Tall),train_loss)\n",
        "plt.plot(range(Tall),test_loss)\n",
        "plt.title(\"loss function in training and test\")\n",
        "plt.xlabel(\"step\")\n",
        "plt.ylabel(\"loss function\")\n",
        "plt.xlim([0,Tall])\n",
        "plt.ylim([0,4])\n",
        "plt.show()\n"
      ],
      "metadata": {
        "colab": {
          "base_uri": "https://localhost:8080/",
          "height": 564
        },
        "id": "5KLIg-wS4mW3",
        "outputId": "20b52cde-a5bc-45ea-d078-87069797cc85"
      },
      "execution_count": 34,
      "outputs": [
        {
          "output_type": "display_data",
          "data": {
            "text/plain": [
              "<Figure size 800x600 with 1 Axes>"
            ],
            "image/png": "[encoded data removed]"
          },
          "metadata": {}
        }
      ]
    },
    {
      "cell_type": "code",
      "source": [
        "plt.figure(figsize = (8,6))\n",
        "plt.plot(range(Tall),train_acc)\n",
        "plt.plot(range(Tall),test_acc)\n",
        "plt.title(\"accuracy in training and test\")\n",
        "plt.xlabel(\"step\")\n",
        "plt.ylabel(\"accuracy\")\n",
        "plt.xlim([0,Tall])\n",
        "plt.ylim([0,1.0])\n",
        "plt.show"
      ],
      "metadata": {
        "colab": {
          "base_uri": "https://localhost:8080/",
          "height": 733
        },
        "id": "WWegcjxm5rgT",
        "outputId": "5fef8a57-0348-49ec-de4e-a84c56292611"
      },
      "execution_count": 35,
      "outputs": [
        {
          "output_type": "execute_result",
          "data": {
            "text/plain": [
              "<function matplotlib.pyplot.show(close=None, block=None)>"
            ],
            "text/html": [
              "<div style=\"max-width:800px; border: 1px solid var(--colab-border-color);\"><style>\n",
              "      pre.function-repr-contents {\n",
              "        overflow-x: auto;\n",
              "        padding: 8px 12px;\n",
              "        max-height: 500px;\n",
              "      }\n",
              "\n",
              "      pre.function-repr-contents.function-repr-contents-collapsed {\n",
              "        cursor: pointer;\n",
              "        max-height: 100px;\n",
              "      }\n",
              "    </style>\n",
              "    <pre style=\"white-space: initial; background:\n",
              "         var(--colab-secondary-surface-color); padding: 8px 12px;\n",
              "         border-bottom: 1px solid var(--colab-border-color);\"><b>matplotlib.pyplot.show</b><br/>def show(*args, **kwargs)</pre><pre class=\"function-repr-contents function-repr-contents-collapsed\" style=\"\"><a class=\"filepath\" style=\"display:none\" href=\"#\">/usr/local/lib/python3.10/dist-packages/matplotlib/pyplot.py</a>Display all open figures.\n",
              "\n",
              "Parameters\n",
              "----------\n",
              "block : bool, optional\n",
              "    Whether to wait for all figures to be closed before returning.\n",
              "\n",
              "    If `True` block and run the GUI main loop until all figure windows\n",
              "    are closed.\n",
              "\n",
              "    If `False` ensure that all figure windows are displayed and return\n",
              "    immediately.  In this case, you are responsible for ensuring\n",
              "    that the event loop is running to have responsive figures.\n",
              "\n",
              "    Defaults to True in non-interactive mode and to False in interactive\n",
              "    mode (see `.pyplot.isinteractive`).\n",
              "\n",
              "See Also\n",
              "--------\n",
              "ion : Enable interactive mode, which shows / updates the figure after\n",
              "      every plotting command, so that calling ``show()`` is not necessary.\n",
              "ioff : Disable interactive mode.\n",
              "savefig : Save the figure to an image file instead of showing it on screen.\n",
              "\n",
              "Notes\n",
              "-----\n",
              "**Saving figures to file and showing a window at the same time**\n",
              "\n",
              "If you want an image file as well as a user interface window, use\n",
              "`.pyplot.savefig` before `.pyplot.show`. At the end of (a blocking)\n",
              "``show()`` the figure is closed and thus unregistered from pyplot. Calling\n",
              "`.pyplot.savefig` afterwards would save a new and thus empty figure. This\n",
              "limitation of command order does not apply if the show is non-blocking or\n",
              "if you keep a reference to the figure and use `.Figure.savefig`.\n",
              "\n",
              "**Auto-show in jupyter notebooks**\n",
              "\n",
              "The jupyter backends (activated via ``%matplotlib inline``,\n",
              "``%matplotlib notebook``, or ``%matplotlib widget``), call ``show()`` at\n",
              "the end of every cell by default. Thus, you usually don&#x27;t have to call it\n",
              "explicitly there.</pre>\n",
              "      <script>\n",
              "      if (google.colab.kernel.accessAllowed && google.colab.files && google.colab.files.view) {\n",
              "        for (const element of document.querySelectorAll('.filepath')) {\n",
              "          element.style.display = 'block'\n",
              "          element.onclick = (event) => {\n",
              "            event.preventDefault();\n",
              "            event.stopPropagation();\n",
              "            google.colab.files.view(element.textContent, 401);\n",
              "          };\n",
              "        }\n",
              "      }\n",
              "      for (const element of document.querySelectorAll('.function-repr-contents')) {\n",
              "        element.onclick = (event) => {\n",
              "          event.preventDefault();\n",
              "          event.stopPropagation();\n",
              "          element.classList.toggle('function-repr-contents-collapsed');\n",
              "        };\n",
              "      }\n",
              "      </script>\n",
              "      </div>"
            ]
          },
          "metadata": {},
          "execution_count": 35
        },
        {
          "output_type": "display_data",
          "data": {
            "text/plain": [
              "<Figure size 800x600 with 1 Axes>"
            ],
            "image/png": "[encoded data removed]"
          },
          "metadata": {}
        }
      ]
    }
  ]
}