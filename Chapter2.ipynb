{
  "nbformat": 4,
  "nbformat_minor": 0,
  "metadata": {
    "colab": {
      "provenance": [],
      "authorship_tag": "ABX9TyPK95SPrcv+wBkFHq6Qi63R",
      "include_colab_link": true
    },
    "kernelspec": {
      "name": "python3",
      "display_name": "Python 3"
    },
    "language_info": {
      "name": "python"
    }
  },
  "cells": [
    {
      "cell_type": "markdown",
      "metadata": {
        "id": "view-in-github",
        "colab_type": "text"
      },
      "source": [
        "<a href=\"https://colab.research.google.com/github/takumi0706/IntroductionMLByPython/blob/main/Chapter2.ipynb\" target=\"_parent\"><img src=\"https://colab.research.google.com/assets/colab-badge.svg\" alt=\"Open In Colab\"/></a>"
      ]
    },
    {
      "cell_type": "code",
      "source": [
        "pip install chainer"
      ],
      "metadata": {
        "colab": {
          "base_uri": "https://localhost:8080/"
        },
        "id": "BqmhSjBVwlfL",
        "outputId": "241c5c23-1921-4120-d285-f3a15f651865"
      },
      "execution_count": 3,
      "outputs": [
        {
          "output_type": "stream",
          "name": "stdout",
          "text": [
            "Requirement already satisfied: chainer in /usr/local/lib/python3.10/dist-packages (7.8.1)\n",
            "Requirement already satisfied: setuptools in /usr/local/lib/python3.10/dist-packages (from chainer) (67.7.2)\n",
            "Requirement already satisfied: typing-extensions in /usr/local/lib/python3.10/dist-packages (from chainer) (4.12.2)\n",
            "Requirement already satisfied: filelock in /usr/local/lib/python3.10/dist-packages (from chainer) (3.14.0)\n",
            "Requirement already satisfied: numpy>=1.9.0 in /usr/local/lib/python3.10/dist-packages (from chainer) (1.25.2)\n",
            "Requirement already satisfied: protobuf>=3.0.0 in /usr/local/lib/python3.10/dist-packages (from chainer) (3.20.3)\n",
            "Requirement already satisfied: six>=1.9.0 in /usr/local/lib/python3.10/dist-packages (from chainer) (1.16.0)\n"
          ]
        }
      ]
    },
    {
      "cell_type": "code",
      "source": [
        "pip install numpy"
      ],
      "metadata": {
        "colab": {
          "base_uri": "https://localhost:8080/"
        },
        "id": "Exb9A6N_wXdh",
        "outputId": "032484e7-695c-4113-dfe0-882a9ce50012"
      },
      "execution_count": 4,
      "outputs": [
        {
          "output_type": "stream",
          "name": "stdout",
          "text": [
            "Requirement already satisfied: numpy in /usr/local/lib/python3.10/dist-packages (1.25.2)\n"
          ]
        }
      ]
    },
    {
      "cell_type": "code",
      "source": [
        "pip install matplotlib"
      ],
      "metadata": {
        "colab": {
          "base_uri": "https://localhost:8080/"
        },
        "id": "x0dQ-HrWw7jm",
        "outputId": "09a33787-5a1f-4231-ee55-1fb389f5add5"
      },
      "execution_count": 5,
      "outputs": [
        {
          "output_type": "stream",
          "name": "stdout",
          "text": [
            "Requirement already satisfied: matplotlib in /usr/local/lib/python3.10/dist-packages (3.7.1)\n",
            "Requirement already satisfied: contourpy>=1.0.1 in /usr/local/lib/python3.10/dist-packages (from matplotlib) (1.2.1)\n",
            "Requirement already satisfied: cycler>=0.10 in /usr/local/lib/python3.10/dist-packages (from matplotlib) (0.12.1)\n",
            "Requirement already satisfied: fonttools>=4.22.0 in /usr/local/lib/python3.10/dist-packages (from matplotlib) (4.53.0)\n",
            "Requirement already satisfied: kiwisolver>=1.0.1 in /usr/local/lib/python3.10/dist-packages (from matplotlib) (1.4.5)\n",
            "Requirement already satisfied: numpy>=1.20 in /usr/local/lib/python3.10/dist-packages (from matplotlib) (1.25.2)\n",
            "Requirement already satisfied: packaging>=20.0 in /usr/local/lib/python3.10/dist-packages (from matplotlib) (24.1)\n",
            "Requirement already satisfied: pillow>=6.2.0 in /usr/local/lib/python3.10/dist-packages (from matplotlib) (9.4.0)\n",
            "Requirement already satisfied: pyparsing>=2.3.1 in /usr/local/lib/python3.10/dist-packages (from matplotlib) (3.1.2)\n",
            "Requirement already satisfied: python-dateutil>=2.7 in /usr/local/lib/python3.10/dist-packages (from matplotlib) (2.8.2)\n",
            "Requirement already satisfied: six>=1.5 in /usr/local/lib/python3.10/dist-packages (from python-dateutil>=2.7->matplotlib) (1.16.0)\n"
          ]
        }
      ]
    },
    {
      "cell_type": "code",
      "source": [
        "import chainer.optimizers as Opt\n",
        "import chainer.functions as F\n",
        "import chainer.links as L\n",
        "from chainer import Variable, Chain, config"
      ],
      "metadata": {
        "id": "p5OY8_OWxB9x"
      },
      "execution_count": 6,
      "outputs": []
    },
    {
      "cell_type": "code",
      "source": [
        "import numpy as np\n",
        "import matplotlib.pyplot as plt\n",
        "\n",
        "D = 100\n",
        "N = 2\n",
        "xdata = np.random.randn(D*N).reshape(D,N).astype(np.float32)\n",
        "\n",
        "def f(x):\n",
        "  y = x*x\n",
        "  return y\n",
        "\n",
        "tdata = (xdata[:,1] > f(xdata[:,0])).astype(np.int32)"
      ],
      "metadata": {
        "id": "CareWRU5xd9Y"
      },
      "execution_count": 12,
      "outputs": []
    },
    {
      "cell_type": "code",
      "source": [
        "C = 2\n",
        "NN = Chain(l1 = L.Linear(N,C))"
      ],
      "metadata": {
        "id": "frD-pyCoyd16"
      },
      "execution_count": 16,
      "outputs": []
    },
    {
      "cell_type": "code",
      "source": [
        "def model(x):\n",
        "  y = NN.l1(x)\n",
        "  return y"
      ],
      "metadata": {
        "id": "ayKFLOAg0BTM"
      },
      "execution_count": 17,
      "outputs": []
    },
    {
      "cell_type": "code",
      "source": [
        "ydata = model(xdata)\n",
        "print(ydata)"
      ],
      "metadata": {
        "colab": {
          "base_uri": "https://localhost:8080/"
        },
        "id": "plRImzwL0OjR",
        "outputId": "f81efcbe-d3d8-4317-f70b-796e6327b877"
      },
      "execution_count": 18,
      "outputs": [
        {
          "output_type": "stream",
          "name": "stdout",
          "text": [
            "variable([[-0.00607547 -0.47113776]\n",
            "          [ 0.36524773  0.7304963 ]\n",
            "          [-0.35379565 -1.5405155 ]\n",
            "          [ 0.06505091 -1.2154803 ]\n",
            "          [-0.5931123  -0.46796426]\n",
            "          [-0.1051909   1.3806007 ]\n",
            "          [-0.22555843 -0.38490206]\n",
            "          [-0.14159693  0.4911899 ]\n",
            "          [ 1.115672    2.531839  ]\n",
            "          [ 0.02782254 -0.00520133]\n",
            "          [-0.5704584  -2.3119595 ]\n",
            "          [-0.34394297 -0.95737076]\n",
            "          [ 1.1467327   0.9217164 ]\n",
            "          [ 0.09660079  0.5540574 ]\n",
            "          [-0.11773047  1.2315432 ]\n",
            "          [ 0.42160258  0.08671594]\n",
            "          [-0.704572   -0.12064128]\n",
            "          [ 0.18171729  2.5501523 ]\n",
            "          [-0.31179857  1.6472445 ]\n",
            "          [-0.04826095 -2.4837258 ]\n",
            "          [-0.26528642 -0.52071387]\n",
            "          [ 0.1429286  -0.2588464 ]\n",
            "          [ 0.64202434  1.0401243 ]\n",
            "          [ 1.64896     1.8284922 ]\n",
            "          [-0.08858756 -0.03537585]\n",
            "          [-0.64777154 -1.4721136 ]\n",
            "          [ 0.18863624 -1.2369231 ]\n",
            "          [ 0.29999533 -0.838953  ]\n",
            "          [ 1.2342012   3.6975763 ]\n",
            "          [-0.33058783  0.04946472]\n",
            "          [ 0.33698818 -0.15123095]\n",
            "          [ 0.6152519  -0.127795  ]\n",
            "          [ 0.04485948  0.49402678]\n",
            "          [-1.149521   -0.03566025]\n",
            "          [-0.4456401   0.8004127 ]\n",
            "          [ 0.13058382 -0.21168493]\n",
            "          [ 0.0556683  -1.678591  ]\n",
            "          [-0.5909452  -1.5861698 ]\n",
            "          [ 0.48157322 -1.0636184 ]\n",
            "          [-0.8466321  -0.8961427 ]\n",
            "          [ 0.22865044  1.482691  ]\n",
            "          [ 0.0766032  -0.11614911]\n",
            "          [ 0.30158845  0.42098927]\n",
            "          [-0.07166922 -0.29771385]\n",
            "          [ 0.12239603  1.1466585 ]\n",
            "          [ 0.7202053   1.8159202 ]\n",
            "          [ 0.0588473   2.5001736 ]\n",
            "          [ 0.58292836  0.32666388]\n",
            "          [ 0.06981152 -1.2249058 ]\n",
            "          [-0.45355806 -0.8317492 ]\n",
            "          [-0.18758833 -0.08501363]\n",
            "          [-0.35158235 -0.63654596]\n",
            "          [-0.27844968 -0.6599538 ]\n",
            "          [-0.25071836  0.03110522]\n",
            "          [-0.35849085 -1.8210721 ]\n",
            "          [-0.01901259 -0.37902847]\n",
            "          [-0.21969287 -1.2076724 ]\n",
            "          [-0.3741702   1.4324557 ]\n",
            "          [ 0.23416641  1.2185047 ]\n",
            "          [ 0.9934433   0.3661931 ]\n",
            "          [ 0.2816495   0.40886053]\n",
            "          [ 0.17905529  0.01616678]\n",
            "          [ 0.40382758  1.513742  ]\n",
            "          [ 0.2991579   0.57121253]\n",
            "          [ 0.22060207 -0.2013569 ]\n",
            "          [-0.5019716  -1.2933137 ]\n",
            "          [ 0.25469756  0.55643636]\n",
            "          [ 0.07387651  0.2772014 ]\n",
            "          [ 0.23428245  0.528514  ]\n",
            "          [ 0.14843783  0.09480436]\n",
            "          [-0.60319376 -1.9417639 ]\n",
            "          [ 0.1846193  -1.9494324 ]\n",
            "          [ 0.15928705 -0.48450738]\n",
            "          [ 0.39034674  0.4092246 ]\n",
            "          [ 0.25110558  0.5185147 ]\n",
            "          [ 0.275133    1.0606576 ]\n",
            "          [ 0.4169909   2.1261122 ]\n",
            "          [ 0.26766863  0.36974794]\n",
            "          [ 0.15755764 -0.02084631]\n",
            "          [ 0.3224919  -0.6295465 ]\n",
            "          [-0.24525203  1.5922922 ]\n",
            "          [-0.10081051 -0.95125216]\n",
            "          [-0.13916796 -0.32669917]\n",
            "          [ 0.5479702  -1.2029674 ]\n",
            "          [ 0.06697597 -0.77696526]\n",
            "          [ 0.398658   -0.62626195]\n",
            "          [ 0.2638186  -0.44007513]\n",
            "          [-0.25136125  0.6498967 ]\n",
            "          [-0.46850714 -0.2621226 ]\n",
            "          [ 0.3172302   0.6243266 ]\n",
            "          [ 0.4696536   0.6972278 ]\n",
            "          [-0.2573074   0.72646713]\n",
            "          [ 0.4809448  -0.49898976]\n",
            "          [ 0.16885847  0.5167028 ]\n",
            "          [-0.34645677 -0.31691173]\n",
            "          [-0.9296757  -1.4621999 ]\n",
            "          [ 0.05850638  1.2601817 ]\n",
            "          [ 0.03190864 -1.0381969 ]\n",
            "          [-0.6174245  -0.8488301 ]\n",
            "          [-0.3879456   0.67650336]])\n"
          ]
        }
      ]
    },
    {
      "cell_type": "code",
      "source": [
        "acc = F.accuracy(ydata,tdata)\n",
        "print(acc)"
      ],
      "metadata": {
        "colab": {
          "base_uri": "https://localhost:8080/"
        },
        "id": "eJGxvj7I0_AJ",
        "outputId": "b8a68b2d-147e-48a2-e2ac-cc309caa35f2"
      },
      "execution_count": 20,
      "outputs": [
        {
          "output_type": "stream",
          "name": "stdout",
          "text": [
            "variable(0.78)\n"
          ]
        }
      ]
    }
  ]
}