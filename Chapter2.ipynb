{
  "nbformat": 4,
  "nbformat_minor": 0,
  "metadata": {
    "colab": {
      "provenance": [],
      "authorship_tag": "ABX9TyMTkPCNJN0yXTw9JYWddIv3",
      "include_colab_link": true
    },
    "kernelspec": {
      "name": "python3",
      "display_name": "Python 3"
    },
    "language_info": {
      "name": "python"
    }
  },
  "cells": [
    {
      "cell_type": "markdown",
      "metadata": {
        "id": "view-in-github",
        "colab_type": "text"
      },
      "source": [
        "<a href=\"https://colab.research.google.com/github/takumi0706/IntroductionMLByPython/blob/main/Chapter2.ipynb\" target=\"_parent\"><img src=\"https://colab.research.google.com/assets/colab-badge.svg\" alt=\"Open In Colab\"/></a>"
      ]
    },
    {
      "cell_type": "code",
      "source": [
        "pip install chainer"
      ],
      "metadata": {
        "colab": {
          "base_uri": "https://localhost:8080/"
        },
        "id": "BqmhSjBVwlfL",
        "outputId": "9d5c45df-7f1f-48bb-f5b2-fc0f784679a6"
      },
      "execution_count": null,
      "outputs": [
        {
          "output_type": "stream",
          "name": "stdout",
          "text": [
            "Collecting chainer\n",
            "  Downloading chainer-7.8.1.tar.gz (1.0 MB)\n",
            "\u001b[2K     \u001b[90m━━━━━━━━━━━━━━━━━━━━━━━━━━━━━━━━━━━━━━━━\u001b[0m \u001b[32m1.0/1.0 MB\u001b[0m \u001b[31m4.2 MB/s\u001b[0m eta \u001b[36m0:00:00\u001b[0m\n",
            "\u001b[?25h  Preparing metadata (setup.py) ... \u001b[?25l\u001b[?25hdone\n",
            "Requirement already satisfied: setuptools in /usr/local/lib/python3.10/dist-packages (from chainer) (67.7.2)\n",
            "Requirement already satisfied: typing_extensions in /usr/local/lib/python3.10/dist-packages (from chainer) (4.12.2)\n",
            "Requirement already satisfied: filelock in /usr/local/lib/python3.10/dist-packages (from chainer) (3.14.0)\n",
            "Requirement already satisfied: numpy>=1.9.0 in /usr/local/lib/python3.10/dist-packages (from chainer) (1.25.2)\n",
            "Requirement already satisfied: protobuf>=3.0.0 in /usr/local/lib/python3.10/dist-packages (from chainer) (3.20.3)\n",
            "Requirement already satisfied: six>=1.9.0 in /usr/local/lib/python3.10/dist-packages (from chainer) (1.16.0)\n",
            "Building wheels for collected packages: chainer\n",
            "  Building wheel for chainer (setup.py) ... \u001b[?25l\u001b[?25hdone\n",
            "  Created wheel for chainer: filename=chainer-7.8.1-py3-none-any.whl size=967716 sha256=1aa256527cac51a801b609e175d738a52a0db2f8182568b88c45d6d885d5a9f7\n",
            "  Stored in directory: /root/.cache/pip/wheels/c4/95/6a/16014db6f761c4e742755b64aac60dbe142da1df6c5919f790\n",
            "Successfully built chainer\n",
            "Installing collected packages: chainer\n",
            "Successfully installed chainer-7.8.1\n"
          ]
        }
      ]
    },
    {
      "cell_type": "code",
      "source": [
        "pip install numpy"
      ],
      "metadata": {
        "colab": {
          "base_uri": "https://localhost:8080/"
        },
        "id": "Exb9A6N_wXdh",
        "outputId": "8bcab17f-9faa-475b-f75e-94b1fc735094"
      },
      "execution_count": null,
      "outputs": [
        {
          "output_type": "stream",
          "name": "stdout",
          "text": [
            "Requirement already satisfied: numpy in /usr/local/lib/python3.10/dist-packages (1.25.2)\n"
          ]
        }
      ]
    },
    {
      "cell_type": "code",
      "source": [
        "pip install matplotlib"
      ],
      "metadata": {
        "colab": {
          "base_uri": "https://localhost:8080/"
        },
        "id": "x0dQ-HrWw7jm",
        "outputId": "d445abf1-c116-452d-ff85-5c9d43206f97"
      },
      "execution_count": null,
      "outputs": [
        {
          "output_type": "stream",
          "name": "stdout",
          "text": [
            "Requirement already satisfied: matplotlib in /usr/local/lib/python3.10/dist-packages (3.7.1)\n",
            "Requirement already satisfied: contourpy>=1.0.1 in /usr/local/lib/python3.10/dist-packages (from matplotlib) (1.2.1)\n",
            "Requirement already satisfied: cycler>=0.10 in /usr/local/lib/python3.10/dist-packages (from matplotlib) (0.12.1)\n",
            "Requirement already satisfied: fonttools>=4.22.0 in /usr/local/lib/python3.10/dist-packages (from matplotlib) (4.53.0)\n",
            "Requirement already satisfied: kiwisolver>=1.0.1 in /usr/local/lib/python3.10/dist-packages (from matplotlib) (1.4.5)\n",
            "Requirement already satisfied: numpy>=1.20 in /usr/local/lib/python3.10/dist-packages (from matplotlib) (1.25.2)\n",
            "Requirement already satisfied: packaging>=20.0 in /usr/local/lib/python3.10/dist-packages (from matplotlib) (24.1)\n",
            "Requirement already satisfied: pillow>=6.2.0 in /usr/local/lib/python3.10/dist-packages (from matplotlib) (9.4.0)\n",
            "Requirement already satisfied: pyparsing>=2.3.1 in /usr/local/lib/python3.10/dist-packages (from matplotlib) (3.1.2)\n",
            "Requirement already satisfied: python-dateutil>=2.7 in /usr/local/lib/python3.10/dist-packages (from matplotlib) (2.8.2)\n",
            "Requirement already satisfied: six>=1.5 in /usr/local/lib/python3.10/dist-packages (from python-dateutil>=2.7->matplotlib) (1.16.0)\n"
          ]
        }
      ]
    },
    {
      "cell_type": "code",
      "source": [
        "import chainer.optimizers as Opt\n",
        "import chainer.functions as F\n",
        "import chainer.links as L\n",
        "from chainer import Variable, Chain, config"
      ],
      "metadata": {
        "id": "p5OY8_OWxB9x"
      },
      "execution_count": null,
      "outputs": []
    },
    {
      "cell_type": "code",
      "source": [
        "import numpy as np\n",
        "import matplotlib.pyplot as plt\n",
        "\n",
        "D = 100\n",
        "N = 2\n",
        "xdata = np.random.randn(D*N).reshape(D,N).astype(np.float32)\n",
        "\n",
        "def f(x):\n",
        "  y = x*x\n",
        "  return y\n",
        "\n",
        "tdata = (xdata[:,1] > f(xdata[:,0])).astype(np.int32)"
      ],
      "metadata": {
        "id": "CareWRU5xd9Y"
      },
      "execution_count": null,
      "outputs": []
    },
    {
      "cell_type": "code",
      "source": [
        "C = 2\n",
        "NN = Chain(l1 = L.Linear(N,C))"
      ],
      "metadata": {
        "id": "frD-pyCoyd16"
      },
      "execution_count": null,
      "outputs": []
    },
    {
      "cell_type": "code",
      "source": [
        "def model(x):\n",
        "  y = NN.l1(x)\n",
        "  return y"
      ],
      "metadata": {
        "id": "ayKFLOAg0BTM"
      },
      "execution_count": null,
      "outputs": []
    },
    {
      "cell_type": "code",
      "source": [
        "ydata = model(xdata)\n",
        "print(ydata)"
      ],
      "metadata": {
        "colab": {
          "base_uri": "https://localhost:8080/"
        },
        "id": "plRImzwL0OjR",
        "outputId": "9475d9c8-0b1f-452d-dce4-de85a11f1d00"
      },
      "execution_count": null,
      "outputs": [
        {
          "output_type": "stream",
          "name": "stdout",
          "text": [
            "variable([[ 2.10894561e+00 -2.09740925e+00]\n",
            "          [-2.32718182e+00 -8.58253896e-01]\n",
            "          [ 7.68226266e-01 -6.52255833e-01]\n",
            "          [ 1.45460606e+00 -1.91790962e+00]\n",
            "          [ 8.68484855e-01  2.58099937e+00]\n",
            "          [ 3.57281864e-01  9.24026251e-01]\n",
            "          [ 2.72176123e+00 -3.56048107e+00]\n",
            "          [-1.50151753e+00  4.10596579e-01]\n",
            "          [ 6.88681230e-02  1.89469740e-01]\n",
            "          [ 5.89387953e-01 -1.09049380e+00]\n",
            "          [-1.30992508e+00  1.56321394e+00]\n",
            "          [-1.66949880e+00  1.86529076e+00]\n",
            "          [ 1.51635599e+00  4.91658300e-01]\n",
            "          [ 8.25349927e-01 -6.08802319e-01]\n",
            "          [-6.96986973e-01 -1.46635306e+00]\n",
            "          [ 2.10075557e-01 -5.64707398e-01]\n",
            "          [ 1.32853901e+00  2.51113391e+00]\n",
            "          [ 1.87087870e+00 -9.69146788e-01]\n",
            "          [-2.41033554e+00  9.28230405e-01]\n",
            "          [-3.11469412e+00  2.84673738e+00]\n",
            "          [ 7.72641376e-02  1.04402447e+00]\n",
            "          [-2.04166341e+00  7.57144809e-01]\n",
            "          [-7.82936633e-01  1.17921665e-01]\n",
            "          [ 3.18060488e-01 -1.64371169e+00]\n",
            "          [ 4.37492639e-01 -6.91940069e-01]\n",
            "          [ 2.73178369e-01 -2.31671762e+00]\n",
            "          [ 2.30356050e+00  1.16138291e+00]\n",
            "          [-3.71981502e+00  3.47178650e+00]\n",
            "          [ 1.49334267e-01  1.20909524e+00]\n",
            "          [-2.77239770e-01 -6.69016719e-01]\n",
            "          [ 2.20720482e+00 -1.01708972e+00]\n",
            "          [-1.29777873e+00  1.60829711e+00]\n",
            "          [ 1.59487021e+00 -1.92871892e+00]\n",
            "          [ 2.00815693e-01  2.49539566e+00]\n",
            "          [-1.53822100e+00  1.99346864e+00]\n",
            "          [-5.00069082e-01  2.89984703e+00]\n",
            "          [-2.19424069e-02 -8.59299779e-01]\n",
            "          [-2.48189658e-01  1.47360623e+00]\n",
            "          [-6.81129575e-01 -7.40739465e-01]\n",
            "          [ 4.21775055e+00  1.22976363e-01]\n",
            "          [ 1.17432690e+00 -7.68457413e-01]\n",
            "          [ 1.01720905e+00  1.05482601e-01]\n",
            "          [-8.81637454e-01 -1.03693581e+00]\n",
            "          [ 1.94719815e+00 -2.62245321e+00]\n",
            "          [ 2.00710821e+00  4.20814753e-01]\n",
            "          [-1.50864255e+00 -5.24486959e-01]\n",
            "          [ 3.05497742e+00 -2.27397704e+00]\n",
            "          [-1.14505327e+00  7.37500072e-01]\n",
            "          [-1.08320308e+00  2.08981371e+00]\n",
            "          [-1.44159925e+00  8.50339413e-01]\n",
            "          [ 1.94723472e-01 -1.07316777e-01]\n",
            "          [ 6.34519815e-01 -7.32527375e-01]\n",
            "          [-6.35004103e-01  1.76181912e+00]\n",
            "          [ 3.23804975e-01  1.53608751e+00]\n",
            "          [-9.15006220e-01 -3.30692768e+00]\n",
            "          [-1.49284482e-01 -3.96349188e-03]\n",
            "          [-4.91910130e-01 -1.42150140e+00]\n",
            "          [-2.32414532e+00  1.77522922e+00]\n",
            "          [ 2.46996164e+00 -3.67383659e-01]\n",
            "          [ 2.24114656e-01  1.33300495e+00]\n",
            "          [ 8.03912580e-01  1.03885794e+00]\n",
            "          [ 4.95154768e-01  1.81799388e+00]\n",
            "          [ 7.63754725e-01  1.26407847e-01]\n",
            "          [ 4.11084443e-01  1.21414912e+00]\n",
            "          [-1.21271677e-01  1.66311181e+00]\n",
            "          [ 6.97808206e-01  6.28047764e-01]\n",
            "          [ 2.73196250e-01 -1.23356378e+00]\n",
            "          [-5.72446227e-01 -3.69754583e-01]\n",
            "          [ 1.11533689e+00 -2.22194338e+00]\n",
            "          [-1.93937409e+00  9.80971992e-01]\n",
            "          [ 2.16012025e+00 -6.42752469e-01]\n",
            "          [-6.24303222e-01  1.26287508e+00]\n",
            "          [-1.49839163e+00 -2.05889791e-01]\n",
            "          [ 1.99343383e+00 -3.19091535e+00]\n",
            "          [ 1.02104783e+00 -2.23685169e+00]\n",
            "          [ 1.00246991e-03  1.61222959e+00]\n",
            "          [ 5.80670238e-01  2.17625916e-01]\n",
            "          [-2.53091753e-01  8.91601682e-01]\n",
            "          [ 3.14831346e-01  3.80044669e-01]\n",
            "          [ 2.51684427e+00 -3.43545127e+00]\n",
            "          [ 1.95667315e+00 -4.21680689e-01]\n",
            "          [-7.13810444e-01  7.95168161e-01]\n",
            "          [ 2.37810850e+00 -5.06084156e+00]\n",
            "          [ 1.33496463e+00 -2.73453450e+00]\n",
            "          [ 3.97334039e-01  1.00470304e+00]\n",
            "          [-1.20758325e-01 -2.35208821e+00]\n",
            "          [ 4.35411125e-01 -6.62147179e-02]\n",
            "          [ 6.47900999e-02 -1.65222555e-01]\n",
            "          [ 3.08341455e+00 -1.46934783e+00]\n",
            "          [ 2.64030075e+00 -2.30237174e+00]\n",
            "          [-1.27512729e+00  1.46922314e+00]\n",
            "          [ 2.12542510e+00 -3.88224721e-01]\n",
            "          [ 1.34693608e-01  2.34424457e-01]\n",
            "          [ 1.31345248e+00 -2.03457832e+00]\n",
            "          [ 2.58776212e+00  2.67473555e+00]\n",
            "          [ 2.10320517e-01  7.31711268e-01]\n",
            "          [-2.20398009e-01  2.06319705e-01]\n",
            "          [ 3.13732564e-01 -1.43818820e+00]\n",
            "          [ 2.85274291e+00  3.12530696e-01]\n",
            "          [ 2.22956824e+00 -1.46097040e+00]])\n"
          ]
        }
      ]
    },
    {
      "cell_type": "code",
      "source": [
        "acc = F.accuracy(ydata,tdata)\n",
        "print(acc)"
      ],
      "metadata": {
        "colab": {
          "base_uri": "https://localhost:8080/"
        },
        "id": "eJGxvj7I0_AJ",
        "outputId": "e7abe4a5-b59f-4134-8554-b25fa398c311"
      },
      "execution_count": null,
      "outputs": [
        {
          "output_type": "stream",
          "name": "stdout",
          "text": [
            "variable(0.81)\n"
          ]
        }
      ]
    },
    {
      "cell_type": "code",
      "source": [
        "optNN = Opt.SGD()\n",
        "optNN.setup(NN)"
      ],
      "metadata": {
        "colab": {
          "base_uri": "https://localhost:8080/"
        },
        "id": "qUjMOXbvyUAm",
        "outputId": "d9153c7b-df5f-4116-9dcb-ccb39d0993e4"
      },
      "execution_count": null,
      "outputs": [
        {
          "output_type": "execute_result",
          "data": {
            "text/plain": [
              "<chainer.optimizers.sgd.SGD at 0x7e592fbf46a0>"
            ]
          },
          "metadata": {},
          "execution_count": 10
        }
      ]
    },
    {
      "cell_type": "code",
      "source": [
        "# 誤差関数の記録用\n",
        "loss_series = []\n",
        "# 成績の記録用\n",
        "acc_series = []"
      ],
      "metadata": {
        "id": "6z-j3gp8zauc"
      },
      "execution_count": null,
      "outputs": []
    },
    {
      "cell_type": "code",
      "source": [
        "T = 5000\n",
        "for time in range(T):\n",
        "  # 学習を許可\n",
        "  config.train = True\n",
        "  # 初期化\n",
        "  # optNN.target = NN\n",
        "  optNN.target.zerograds()\n",
        "  # 現状のニューラルネットワークを利用\n",
        "  ydata = model(xdata)\n",
        "  # 誤差関数の計算\n",
        "  loss = F.softmax_cross_entropy(ydata,tdata)\n",
        "  # 現状の成績チェック\n",
        "  acc = F.accuracy(ydata,tdata)\n",
        "  # 誤差逆伝搬法を実行\n",
        "  loss.backward()\n",
        "  # 誤差を修正\n",
        "  optNN.update()\n",
        "\n",
        "  # ログを記録\n",
        "  loss_series.append(loss.data)\n",
        "  acc_series.append(acc.data)"
      ],
      "metadata": {
        "id": "Bkej-V48z3y1"
      },
      "execution_count": null,
      "outputs": []
    },
    {
      "cell_type": "code",
      "source": [
        "# loss_seriesの長さ\n",
        "Tall = len(loss_series)\n",
        "# 横が８，縦が６\n",
        "plt.figure(figsize=(8,6))\n",
        "# 横に学習回数、縦に各回における誤差巻子の数値\n",
        "plt.plot(range(Tall),loss_series)\n",
        "plt.title(\"loss function in training\")\n",
        "plt.xlabel(\"step\")\n",
        "plt.ylabel(\"loss function\")\n",
        "# 幅のリミット\n",
        "plt.xlim([0,Tall])\n",
        "plt.ylim([0,1])\n",
        "plt.show()"
      ],
      "metadata": {
        "colab": {
          "base_uri": "https://localhost:8080/",
          "height": 564
        },
        "id": "l-z1aZAs2Hcz",
        "outputId": "316b4488-3897-437c-935e-046385382043"
      },
      "execution_count": null,
      "outputs": [
        {
          "output_type": "display_data",
          "data": {
            "text/plain": [
              "<Figure size 800x600 with 1 Axes>"
            ],
            "image/png": "[encoded data removed]"
          },
          "metadata": {}
        }
      ]
    },
    {
      "cell_type": "code",
      "source": [
        "Tall = len(acc_series)\n",
        "plt.figure(figsize=(8,6))\n",
        "plt.plot(range(Tall),acc_series)\n",
        "plt.title(\"accuracy in training\")\n",
        "plt.xlabel(\"step\")\n",
        "plt.ylabel(\"accuracy\")\n",
        "plt.xlim([0,Tall])\n",
        "plt.ylim([0,1])\n",
        "plt.show()"
      ],
      "metadata": {
        "colab": {
          "base_uri": "https://localhost:8080/",
          "height": 564
        },
        "id": "WMRz36k13V7M",
        "outputId": "5955bdf9-164c-41e5-eaf3-4c7de95a6d54"
      },
      "execution_count": null,
      "outputs": [
        {
          "output_type": "display_data",
          "data": {
            "text/plain": [
              "<Figure size 800x600 with 1 Axes>"
            ],
            "image/png": "[encoded data removed]"
          },
          "metadata": {}
        }
      ]
    },
    {
      "cell_type": "code",
      "source": [
        "C = 2\n",
        "# L.Linear(入力数,出力数)\n",
        "NN = Chain(l1 = L.Linear(N,4), l2 = L.Linear(4,C))"
      ],
      "metadata": {
        "id": "U4lQeaXz3nao"
      },
      "execution_count": null,
      "outputs": []
    },
    {
      "cell_type": "code",
      "source": [
        "# l1の線形変換後に非線形変換をしてからl2の線形変換をする\n",
        "def model(x):\n",
        "  h = NN.l1(x)\n",
        "  h = F.sigmoid(h)\n",
        "  y = NN.l2(h)\n",
        "  return y"
      ],
      "metadata": {
        "id": "8Z8bBp5p5a_L"
      },
      "execution_count": null,
      "outputs": []
    },
    {
      "cell_type": "code",
      "source": [
        "# 再びSGD方法で学習\n",
        "optNN = Opt.SGD()\n",
        "optNN.setup(NN)\n",
        "\n",
        "# 保存場所\n",
        "loss_series = []\n",
        "acc_series = []\n",
        "\n",
        "# 学習(間に非線形変換)\n",
        "T = 20000\n",
        "for time in range(T):\n",
        "  config.train = True\n",
        "  optNN.target.zerograds()\n",
        "  ydata = model(xdata)\n",
        "  loss = F.softmax_cross_entropy(ydata,tdata)\n",
        "  acc = F.accuracy(ydata,tdata)\n",
        "  loss.backward()\n",
        "  optNN.update()\n",
        "\n",
        "  loss_series.append(loss.data)\n",
        "  acc_series.append(acc.data)"
      ],
      "metadata": {
        "id": "Qw1dkytN537B"
      },
      "execution_count": null,
      "outputs": []
    },
    {
      "cell_type": "code",
      "source": [
        "Tall = len(loss_series)\n",
        "plt.figure(figsize=(8,6))\n",
        "# 横に学習回数、縦に各回における誤差巻子の数値\n",
        "plt.plot(range(Tall),loss_series)\n",
        "plt.title(\"loss function in training\")\n",
        "plt.xlabel(\"step\")\n",
        "plt.ylabel(\"loss function\")\n",
        "# 幅のリミット\n",
        "plt.xlim([0,Tall])\n",
        "plt.ylim([0,4])\n",
        "plt.show()"
      ],
      "metadata": {
        "colab": {
          "base_uri": "https://localhost:8080/",
          "height": 564
        },
        "id": "L2sMJ6Rr7XUz",
        "outputId": "3c24b5f0-013f-413b-b050-aa087a43e890"
      },
      "execution_count": null,
      "outputs": [
        {
          "output_type": "display_data",
          "data": {
            "text/plain": [
              "<Figure size 800x600 with 1 Axes>"
            ],
            "image/png": "[encoded data removed]"
          },
          "metadata": {}
        }
      ]
    },
    {
      "cell_type": "code",
      "source": [
        "Tall = len(acc_series)\n",
        "plt.figure(figsize=(8,6))\n",
        "plt.plot(range(Tall),acc_series)\n",
        "plt.title(\"accuracy in training\")\n",
        "plt.xlabel(\"step\")\n",
        "plt.ylabel(\"accuracy\")\n",
        "plt.xlim([0,Tall])\n",
        "plt.ylim([0,1])\n",
        "plt.show()"
      ],
      "metadata": {
        "colab": {
          "base_uri": "https://localhost:8080/",
          "height": 564
        },
        "id": "b22MYFi57wdW",
        "outputId": "dd9376d1-9e95-4f00-9e36-42e2958f2a9a"
      },
      "execution_count": null,
      "outputs": [
        {
          "output_type": "display_data",
          "data": {
            "text/plain": [
              "<Figure size 800x600 with 1 Axes>"
            ],
            "image/png": "[encoded data removed]"
          },
          "metadata": {}
        }
      ]
    },
    {
      "cell_type": "markdown",
      "source": [
        "# Chapter1\n",
        "## ニューラルネットワークを作る\n",
        "2024/06/17"
      ],
      "metadata": {
        "id": "WAaMefc49o1S"
      }
    }
  ]
}